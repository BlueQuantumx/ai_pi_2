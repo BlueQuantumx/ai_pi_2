{
 "cells": [
  {
   "cell_type": "code",
   "execution_count": 1,
   "metadata": {},
   "outputs": [],
   "source": [
    "from typing import Literal\n",
    "\n",
    "import os\n",
    "import torch\n",
    "import tqdm\n",
    "import numpy as np\n",
    "\n",
    "from torch import optim, nn, Tensor\n",
    "from torch.utils.data import Dataset, DataLoader\n",
    "\n",
    "from bert import BertForClassification"
   ]
  },
  {
   "cell_type": "code",
   "execution_count": 2,
   "metadata": {},
   "outputs": [],
   "source": [
    "DATABASE_PATH = \"./aclImdb\"\n",
    "EPOCH = 10\n",
    "MAX_POSITION_EMBEDDINGS = 512\n",
    "\n",
    "device = torch.device(\"cuda\" if torch.cuda.is_available() else \"mps\")"
   ]
  },
  {
   "cell_type": "code",
   "execution_count": 3,
   "metadata": {},
   "outputs": [
    {
     "data": {
      "text/plain": [
       "{'text': Value(dtype='string', id=None),\n",
       " 'label': ClassLabel(names=['neg', 'pos'], id=None)}"
      ]
     },
     "execution_count": 3,
     "metadata": {},
     "output_type": "execute_result"
    }
   ],
   "source": [
    "from datasets import load_dataset\n",
    "\n",
    "dataset = load_dataset(\"imdb\")\n",
    "dataset[\"train\"].features"
   ]
  },
  {
   "cell_type": "code",
   "execution_count": 4,
   "metadata": {},
   "outputs": [],
   "source": [
    "from transformers import BertTokenizerFast\n",
    "\n",
    "tokenizer: BertTokenizerFast = BertTokenizerFast.from_pretrained(\"bert-base-uncased\")\n",
    "\n",
    "\n",
    "def tokenize_function(examples):\n",
    "    return tokenizer(\n",
    "        examples[\"text\"],\n",
    "        padding=\"max_length\",\n",
    "        truncation=True,\n",
    "    )\n",
    "\n",
    "\n",
    "tokenized_datasets = dataset.map(tokenize_function, batched=True)\n",
    "tokenized_datasets = tokenized_datasets.remove_columns([\"text\"])\n",
    "tokenized_datasets = tokenized_datasets.rename_column(\"label\", \"labels\")\n",
    "tokenized_datasets.set_format(\"torch\")"
   ]
  },
  {
   "cell_type": "code",
   "execution_count": 5,
   "metadata": {},
   "outputs": [],
   "source": [
    "small_train_dataset = tokenized_datasets[\"train\"].shuffle(seed=42).select(range(1000))\n",
    "small_eval_dataset = tokenized_datasets[\"test\"].shuffle(seed=42).select(range(1000))"
   ]
  },
  {
   "cell_type": "code",
   "execution_count": 6,
   "metadata": {},
   "outputs": [],
   "source": [
    "bert = BertForClassification(\n",
    "    vocab_size=tokenizer.vocab_size,\n",
    "    d_model=768,\n",
    "    intermediate_size=4 * 768,\n",
    "    max_position_embeddings=512,\n",
    "    num_attention_heads=8,\n",
    "    hidden_dropout_prob=0.1,\n",
    "    num_hidden_layers=12,\n",
    "    num_labels=2,\n",
    ").to(device)"
   ]
  },
  {
   "cell_type": "code",
   "execution_count": 7,
   "metadata": {},
   "outputs": [
    {
     "name": "stderr",
     "output_type": "stream",
     "text": [
      "  0%|          | 0/630 [00:00<?, ?it/s]"
     ]
    },
    {
     "name": "stderr",
     "output_type": "stream",
     "text": [
      " 10%|█         | 63/630 [00:32<04:04,  2.32it/s]"
     ]
    },
    {
     "name": "stdout",
     "output_type": "stream",
     "text": [
      "Epoch: 0 Loss: 0.7238034653285194\n"
     ]
    },
    {
     "name": "stderr",
     "output_type": "stream",
     "text": [
      " 20%|██        | 126/630 [01:03<03:41,  2.28it/s]"
     ]
    },
    {
     "name": "stdout",
     "output_type": "stream",
     "text": [
      "Epoch: 1 Loss: 0.7009218032397921\n"
     ]
    },
    {
     "name": "stderr",
     "output_type": "stream",
     "text": [
      " 27%|██▋       | 170/630 [01:26<03:55,  1.95it/s]"
     ]
    }
   ],
   "source": [
    "from transformers import get_scheduler\n",
    "\n",
    "train_dataloader = DataLoader(small_train_dataset, batch_size=16, shuffle=True)\n",
    "optimizer = optim.Adam(bert.parameters(), lr=1e-5)\n",
    "# lr_scheduler = get_scheduler(\n",
    "#     name=\"linear\",\n",
    "#     optimizer=optimizer,\n",
    "#     num_warmup_steps=0,\n",
    "#     num_training_steps=len(train_dataloader) * EPOCH,\n",
    "# )\n",
    "\n",
    "bert.train()\n",
    "losses = []\n",
    "\n",
    "with tqdm.tqdm(total=len(train_dataloader) * EPOCH) as tqdm_bar:\n",
    "    for epoch in range(EPOCH):\n",
    "        training_loss = 0.0\n",
    "        for batch in train_dataloader:\n",
    "            batch = {k: v.to(device) for k, v in batch.items()}\n",
    "            batch[\"input_ids\"].transpose_(0, 1)\n",
    "            batch[\"attention_mask\"].transpose_(0, 1)\n",
    "            batch[\"token_type_ids\"].transpose_(0, 1)\n",
    "            # labels: Tensor\n",
    "            # input_ids = torch.stack(input_ids).to(device)\n",
    "            # attention_mask = torch.stack(attention_mask).to(device)\n",
    "            # labels = labels.to(device)\n",
    "            loss, logits = bert(**batch)\n",
    "            loss: Tensor\n",
    "            loss.backward()\n",
    "            training_loss += loss.item()\n",
    "            optimizer.step()\n",
    "            optimizer.zero_grad()\n",
    "            tqdm_bar.update(1)\n",
    "        print(\"Epoch:\", epoch, \"Loss:\", training_loss / len(train_dataloader))\n",
    "        losses.append(training_loss / len(train_dataloader))\n",
    "\n",
    "import matplotlib.pyplot as plt\n",
    "\n",
    "plt.plot(losses)\n",
    "\n",
    "torch.save(bert.state_dict(), \"bert_from_scratch.pt\")"
   ]
  },
  {
   "cell_type": "code",
   "execution_count": 7,
   "metadata": {},
   "outputs": [
    {
     "name": "stderr",
     "output_type": "stream",
     "text": [
      "100%|██████████| 125/125 [00:11<00:00, 10.75it/s]\n"
     ]
    },
    {
     "data": {
      "text/plain": [
       "{'accuracy': 0.745}"
      ]
     },
     "execution_count": 7,
     "metadata": {},
     "output_type": "execute_result"
    }
   ],
   "source": [
    "bert.load_state_dict(\n",
    "    torch.load(\"bert_from_scratch.pt.bk\", map_location=torch.device(device))\n",
    ")\n",
    "\n",
    "bert.to(device)\n",
    "\n",
    "import evaluate\n",
    "\n",
    "metric = evaluate.load(\"accuracy\")\n",
    "\n",
    "bert.eval()\n",
    "eval_dataloader = DataLoader(small_eval_dataset, batch_size=8, shuffle=True)\n",
    "with tqdm.tqdm(eval_dataloader) as tqdm_bar:\n",
    "    for batch in eval_dataloader:\n",
    "        batch = {k: v.to(device) for k, v in batch.items()}\n",
    "        batch[\"input_ids\"].transpose_(0, 1)\n",
    "        batch[\"attention_mask\"].transpose_(0, 1)\n",
    "        batch[\"token_type_ids\"].transpose_(0, 1)\n",
    "        with torch.no_grad():\n",
    "            _, logits = bert(**batch)\n",
    "        predictions = torch.argmax(logits, dim=-1)\n",
    "        metric.add_batch(predictions=predictions, references=batch[\"labels\"])\n",
    "        tqdm_bar.update(1)\n",
    "\n",
    "metric.compute()"
   ]
  }
 ],
 "metadata": {
  "kernelspec": {
   "display_name": "base",
   "language": "python",
   "name": "python3"
  },
  "language_info": {
   "codemirror_mode": {
    "name": "ipython",
    "version": 3
   },
   "file_extension": ".py",
   "mimetype": "text/x-python",
   "name": "python",
   "nbconvert_exporter": "python",
   "pygments_lexer": "ipython3",
   "version": "3.10.8"
  },
  "orig_nbformat": 4
 },
 "nbformat": 4,
 "nbformat_minor": 2
}
