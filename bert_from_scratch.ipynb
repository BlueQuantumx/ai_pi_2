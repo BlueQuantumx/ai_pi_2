{
 "cells": [
  {
   "cell_type": "code",
   "execution_count": 1,
   "metadata": {},
   "outputs": [],
   "source": [
    "from typing import Literal\n",
    "\n",
    "import os\n",
    "import torch\n",
    "import tqdm\n",
    "import numpy as np\n",
    "\n",
    "from torch import optim, nn, Tensor\n",
    "from torch.utils.data import Dataset, DataLoader\n",
    "\n",
    "from bert import BertForClassification"
   ]
  },
  {
   "cell_type": "code",
   "execution_count": 2,
   "metadata": {},
   "outputs": [],
   "source": [
    "DATABASE_PATH = \"./aclImdb\"\n",
    "EPOCH = 5\n",
    "MAX_POSITION_EMBEDDINGS = 512\n",
    "\n",
    "device = torch.device(\"cuda\" if torch.cuda.is_available() else \"mps\")"
   ]
  },
  {
   "cell_type": "code",
   "execution_count": 3,
   "metadata": {},
   "outputs": [],
   "source": [
    "from transformers import BertTokenizerFast\n",
    "\n",
    "tokenizer: BertTokenizerFast = BertTokenizerFast.from_pretrained(\n",
    "    \"bert-base-uncased\",\n",
    ")\n",
    "\n",
    "\n",
    "def tokenize(examples):\n",
    "    return tokenizer(examples, padding=\"max_length\", truncation=True)\n",
    "\n",
    "\n",
    "class ImdbDataset(Dataset):\n",
    "    def __init__(self, mode: Literal[\"train\", \"test\"]):\n",
    "        super().__init__()\n",
    "        self.data = []\n",
    "        self.label = []\n",
    "        for k, v in {\"{mode}/neg\": 0, \"{mode}/pos\": 1}.items():\n",
    "            class_root = os.path.join(DATABASE_PATH, k.format(mode=mode))\n",
    "            for j in os.listdir(class_root):\n",
    "                self.data.append(open(os.path.join(class_root, j)).read().strip())\n",
    "                self.label.append(v)\n",
    "        self.tokenized = tokenize(self.data).data\n",
    "\n",
    "    def __getitem__(self, idx):\n",
    "        input_ids = self.tokenized[\"input_ids\"][idx]\n",
    "        attention_mask = self.tokenized[\"attention_mask\"][idx]\n",
    "        labels = self.label[idx]\n",
    "        return input_ids, attention_mask, labels\n",
    "\n",
    "    def __len__(self):\n",
    "        return len(self.data)\n",
    "    \n",
    "train_dataset = ImdbDataset(\"train\")\n",
    "test_dataset = ImdbDataset(\"test\")"
   ]
  },
  {
   "cell_type": "code",
   "execution_count": 4,
   "metadata": {},
   "outputs": [],
   "source": [
    "bert = BertForClassification(\n",
    "    vocab_size=tokenizer.vocab_size,\n",
    "    d_model=768,\n",
    "    intermediate_size=4 * 768,\n",
    "    max_position_embeddings=512,\n",
    "    num_attention_heads=8,\n",
    "    hidden_dropout_prob=0.1,\n",
    "    num_hidden_layers=12,\n",
    "    num_labels=2,\n",
    ").to(device)"
   ]
  },
  {
   "cell_type": "code",
   "execution_count": 5,
   "metadata": {},
   "outputs": [
    {
     "name": "stderr",
     "output_type": "stream",
     "text": [
      " 38%|███▊      | 301/782 [05:12<08:20,  1.04s/it]"
     ]
    },
    {
     "name": "stdout",
     "output_type": "stream",
     "text": [
      "Epoch: 0 Loss: tensor(0.6555, device='cuda:0', grad_fn=<NllLossBackward0>)\n"
     ]
    },
    {
     "name": "stderr",
     "output_type": "stream",
     "text": [
      " 38%|███▊      | 301/782 [05:12<08:19,  1.04s/it]\n"
     ]
    },
    {
     "name": "stdout",
     "output_type": "stream",
     "text": [
      "Epoch: 1 Loss: tensor(0.6977, device='cuda:0', grad_fn=<NllLossBackward0>)\n"
     ]
    },
    {
     "name": "stderr",
     "output_type": "stream",
     "text": [
      " 38%|███▊      | 301/782 [05:12<08:19,  1.04s/it]\n",
      "  6%|▌         | 44/782 [00:45<12:43,  1.03s/it]"
     ]
    },
    {
     "ename": "KeyboardInterrupt",
     "evalue": "",
     "output_type": "error",
     "traceback": [
      "\u001b[0;31m---------------------------------------------------------------------------\u001b[0m",
      "\u001b[0;31mKeyboardInterrupt\u001b[0m                         Traceback (most recent call last)",
      "Cell \u001b[0;32mIn[5], line 19\u001b[0m\n\u001b[1;32m     13\u001b[0m loss, logits \u001b[39m=\u001b[39m bert(\n\u001b[1;32m     14\u001b[0m     input_ids\u001b[39m=\u001b[39minput_ids,\n\u001b[1;32m     15\u001b[0m     attention_mask\u001b[39m=\u001b[39mattention_mask,\n\u001b[1;32m     16\u001b[0m     labels\u001b[39m=\u001b[39mlabels,\n\u001b[1;32m     17\u001b[0m )\n\u001b[1;32m     18\u001b[0m loss: Tensor\n\u001b[0;32m---> 19\u001b[0m loss\u001b[39m.\u001b[39;49mbackward()\n\u001b[1;32m     20\u001b[0m optimizer\u001b[39m.\u001b[39mstep()\n\u001b[1;32m     21\u001b[0m optimizer\u001b[39m.\u001b[39mzero_grad()\n",
      "File \u001b[0;32m~/miniconda3/lib/python3.10/site-packages/torch/_tensor.py:487\u001b[0m, in \u001b[0;36mTensor.backward\u001b[0;34m(self, gradient, retain_graph, create_graph, inputs)\u001b[0m\n\u001b[1;32m    477\u001b[0m \u001b[39mif\u001b[39;00m has_torch_function_unary(\u001b[39mself\u001b[39m):\n\u001b[1;32m    478\u001b[0m     \u001b[39mreturn\u001b[39;00m handle_torch_function(\n\u001b[1;32m    479\u001b[0m         Tensor\u001b[39m.\u001b[39mbackward,\n\u001b[1;32m    480\u001b[0m         (\u001b[39mself\u001b[39m,),\n\u001b[0;32m   (...)\u001b[0m\n\u001b[1;32m    485\u001b[0m         inputs\u001b[39m=\u001b[39minputs,\n\u001b[1;32m    486\u001b[0m     )\n\u001b[0;32m--> 487\u001b[0m torch\u001b[39m.\u001b[39;49mautograd\u001b[39m.\u001b[39;49mbackward(\n\u001b[1;32m    488\u001b[0m     \u001b[39mself\u001b[39;49m, gradient, retain_graph, create_graph, inputs\u001b[39m=\u001b[39;49minputs\n\u001b[1;32m    489\u001b[0m )\n",
      "File \u001b[0;32m~/miniconda3/lib/python3.10/site-packages/torch/autograd/__init__.py:200\u001b[0m, in \u001b[0;36mbackward\u001b[0;34m(tensors, grad_tensors, retain_graph, create_graph, grad_variables, inputs)\u001b[0m\n\u001b[1;32m    195\u001b[0m     retain_graph \u001b[39m=\u001b[39m create_graph\n\u001b[1;32m    197\u001b[0m \u001b[39m# The reason we repeat same the comment below is that\u001b[39;00m\n\u001b[1;32m    198\u001b[0m \u001b[39m# some Python versions print out the first line of a multi-line function\u001b[39;00m\n\u001b[1;32m    199\u001b[0m \u001b[39m# calls in the traceback and some print out the last line\u001b[39;00m\n\u001b[0;32m--> 200\u001b[0m Variable\u001b[39m.\u001b[39;49m_execution_engine\u001b[39m.\u001b[39;49mrun_backward(  \u001b[39m# Calls into the C++ engine to run the backward pass\u001b[39;49;00m\n\u001b[1;32m    201\u001b[0m     tensors, grad_tensors_, retain_graph, create_graph, inputs,\n\u001b[1;32m    202\u001b[0m     allow_unreachable\u001b[39m=\u001b[39;49m\u001b[39mTrue\u001b[39;49;00m, accumulate_grad\u001b[39m=\u001b[39;49m\u001b[39mTrue\u001b[39;49;00m)\n",
      "\u001b[0;31mKeyboardInterrupt\u001b[0m: "
     ]
    }
   ],
   "source": [
    "train_dataloader = DataLoader(train_dataset, batch_size=32, shuffle=True)\n",
    "optimizer = optim.Adam(bert.parameters(), lr=1e-5)\n",
    "# lr_scheduler\n",
    "\n",
    "bert.train()\n",
    "for epoch in range(EPOCH):\n",
    "    tqdm_bar = tqdm.tqdm(train_dataloader)\n",
    "    for i, (input_ids, attention_mask, labels) in enumerate(train_dataloader):\n",
    "        labels: Tensor\n",
    "        input_ids = torch.stack(input_ids).to(device)\n",
    "        attention_mask = torch.stack(attention_mask).to(device)\n",
    "        labels = labels.to(device)\n",
    "        loss, logits = bert(\n",
    "            input_ids=input_ids,\n",
    "            attention_mask=attention_mask,\n",
    "            labels=labels,\n",
    "        )\n",
    "        loss: Tensor\n",
    "        loss.backward()\n",
    "        optimizer.step()\n",
    "        optimizer.zero_grad()\n",
    "        tqdm_bar.update(1)\n",
    "        if (i == 300):\n",
    "            break\n",
    "    print(\"Epoch:\", epoch, \"Loss:\", loss)\n",
    "torch.save(bert.state_dict(), \"bert_from_scratch.pt\")"
   ]
  },
  {
   "cell_type": "code",
   "execution_count": 6,
   "metadata": {},
   "outputs": [],
   "source": [
    "torch.save(bert.state_dict(), \"bert_from_scratch.pt\")"
   ]
  },
  {
   "cell_type": "code",
   "execution_count": null,
   "metadata": {},
   "outputs": [],
   "source": [
    "bert.load_state_dict(\n",
    "    torch.load(\"bert_from_scratch.pt\", map_location=torch.device(device))\n",
    ")\n",
    "\n",
    "import evaluate\n",
    "\n",
    "metric = evaluate.load(\"accuracy\")\n",
    "\n",
    "bert.eval()\n",
    "eval_dataloader = DataLoader(test_dataset, batch_size=8, shuffle=True)\n",
    "for input_ids, attention_mask, labels in eval_dataloader:\n",
    "    labels: Tensor\n",
    "    input_ids = torch.stack(input_ids).to(device)\n",
    "    attention_mask = torch.stack(attention_mask).to(device)\n",
    "    labels = labels.to(device)\n",
    "    with torch.no_grad():\n",
    "        _, logits = bert(\n",
    "            input_ids=input_ids,\n",
    "            attention_mask=attention_mask,\n",
    "            labels=labels,\n",
    "        )\n",
    "    predictions = torch.argmax(logits, dim=-1)\n",
    "    metric.add_batch(predictions=predictions, references=labels)\n",
    "\n",
    "metric.compute()"
   ]
  }
 ],
 "metadata": {
  "kernelspec": {
   "display_name": "base",
   "language": "python",
   "name": "python3"
  },
  "language_info": {
   "codemirror_mode": {
    "name": "ipython",
    "version": 3
   },
   "file_extension": ".py",
   "mimetype": "text/x-python",
   "name": "python",
   "nbconvert_exporter": "python",
   "pygments_lexer": "ipython3",
   "version": "3.11.4"
  },
  "orig_nbformat": 4
 },
 "nbformat": 4,
 "nbformat_minor": 2
}
