{
 "cells": [
  {
   "cell_type": "code",
   "execution_count": null,
   "metadata": {},
   "outputs": [],
   "source": [
    "EPOCH = 3"
   ]
  },
  {
   "cell_type": "code",
   "execution_count": null,
   "metadata": {},
   "outputs": [],
   "source": [
    "from datasets import load_dataset\n",
    "\n",
    "dataset = load_dataset(\"imdb\")\n",
    "dataset[\"train\"].features"
   ]
  },
  {
   "cell_type": "code",
   "execution_count": null,
   "metadata": {},
   "outputs": [],
   "source": [
    "from transformers import BertTokenizerFast\n",
    "\n",
    "tokenizer: BertTokenizerFast = BertTokenizerFast.from_pretrained(\"bert-base-uncased\")\n",
    "\n",
    "\n",
    "def tokenize_function(examples):\n",
    "    return tokenizer(\n",
    "        examples[\"text\"],\n",
    "        padding=\"max_length\",\n",
    "        truncation=True,\n",
    "    )\n",
    "\n",
    "\n",
    "tokenized_datasets = dataset.map(tokenize_function, batched=True)"
   ]
  },
  {
   "cell_type": "code",
   "execution_count": null,
   "metadata": {},
   "outputs": [],
   "source": [
    "small_train_dataset = tokenized_datasets[\"train\"].shuffle(seed=42).select(range(10000))\n",
    "small_eval_dataset = tokenized_datasets[\"test\"].shuffle(seed=42).select(range(1000))"
   ]
  },
  {
   "cell_type": "code",
   "execution_count": 8,
   "metadata": {},
   "outputs": [
    {
     "name": "stderr",
     "output_type": "stream",
     "text": [
      "  1%|▏         | 2/150 [04:33<5:37:39, 136.89s/it] \n"
     ]
    },
    {
     "ename": "KeyboardInterrupt",
     "evalue": "",
     "output_type": "error",
     "traceback": [
      "\u001b[0;31m---------------------------------------------------------------------------\u001b[0m",
      "\u001b[0;31mKeyboardInterrupt\u001b[0m                         Traceback (most recent call last)",
      "Cell \u001b[0;32mIn[8], line 33\u001b[0m\n\u001b[1;32m     31\u001b[0m loss\u001b[39m.\u001b[39mbackward()\n\u001b[1;32m     32\u001b[0m optimizer\u001b[39m.\u001b[39mstep()\n\u001b[0;32m---> 33\u001b[0m lr_scheduler\u001b[39m.\u001b[39mstep(loss\u001b[39m.\u001b[39mitem())\n\u001b[1;32m     34\u001b[0m optimizer\u001b[39m.\u001b[39mzero_grad()\n\u001b[1;32m     35\u001b[0m tqdm_bar\u001b[39m.\u001b[39mupdate(\u001b[39m1\u001b[39m)\n",
      "\u001b[0;31mKeyboardInterrupt\u001b[0m: "
     ]
    }
   ],
   "source": [
    "import torch\n",
    "import tqdm\n",
    "\n",
    "from torch import optim, nn, Tensor\n",
    "from torch.utils.data import DataLoader\n",
    "\n",
    "from lstm import LstmForClassification\n",
    "\n",
    "lstm = LstmForClassification(\n",
    "    num_labels=2,\n",
    "    hidden_size=512,\n",
    "    num_layers=2,\n",
    "    vocab_size=tokenizer.vocab_size,\n",
    "    pad_token_id=0,\n",
    ").to(\"mps\")\n",
    "\n",
    "train_dataloader = DataLoader(small_train_dataset, batch_size=200, shuffle=True)\n",
    "optimizer = optim.Adam(lstm.parameters(), lr=1e-2)\n",
    "lr_scheduler = optim.lr_scheduler.ReduceLROnPlateau(optimizer, patience=3, verbose=True)\n",
    "lstm.train()\n",
    "with tqdm.tqdm(total=len(train_dataloader) * EPOCH) as tqdm_bar:\n",
    "    for epoch in range(EPOCH):\n",
    "        for batch in train_dataloader:\n",
    "            labels: Tensor = batch[\"label\"].to(\"mps\")\n",
    "            input_ids = torch.stack(batch[\"input_ids\"]).to(\"mps\")\n",
    "            loss, logits = lstm(\n",
    "                x=input_ids,\n",
    "                labels=labels,\n",
    "            )\n",
    "            loss: Tensor\n",
    "            loss.backward()\n",
    "            optimizer.step()\n",
    "            lr_scheduler.step(loss.item())\n",
    "            optimizer.zero_grad()\n",
    "            tqdm_bar.update(1)\n",
    "        print(epoch, loss.item())"
   ]
  },
  {
   "cell_type": "code",
   "execution_count": null,
   "metadata": {},
   "outputs": [],
   "source": [
    "import evaluate\n",
    "\n",
    "metric = evaluate.load(\"accuracy\")\n",
    "lstm.eval()\n",
    "eval_dataloader = DataLoader(small_eval_dataset, batch_size=256, shuffle=True)\n",
    "tqdm_bar = tqdm.tqdm(eval_dataloader)\n",
    "\n",
    "with tqdm.tqdm(eval_dataloader) as tqdm_bar:\n",
    "    for batch in eval_dataloader:\n",
    "        labels: Tensor = batch[\"label\"].to(\"mps\")\n",
    "        input_ids = torch.stack(batch[\"input_ids\"]).to(\"mps\")\n",
    "        with torch.no_grad():\n",
    "            _, logits = lstm(\n",
    "                x=input_ids,\n",
    "                labels=labels,\n",
    "            )\n",
    "        predictions = torch.argmax(logits, dim=-1)\n",
    "        metric.add_batch(predictions=predictions, references=labels)\n",
    "        tqdm_bar.update(1)\n",
    "\n",
    "metric.compute()"
   ]
  }
 ],
 "metadata": {
  "kernelspec": {
   "display_name": "base",
   "language": "python",
   "name": "python3"
  },
  "language_info": {
   "codemirror_mode": {
    "name": "ipython",
    "version": 3
   },
   "file_extension": ".py",
   "mimetype": "text/x-python",
   "name": "python",
   "nbconvert_exporter": "python",
   "pygments_lexer": "ipython3",
   "version": "3.11.4"
  },
  "orig_nbformat": 4
 },
 "nbformat": 4,
 "nbformat_minor": 2
}
